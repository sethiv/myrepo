{
  "nbformat": 4,
  "nbformat_minor": 0,
  "metadata": {
    "application/vnd.databricks.v1+notebook": {
      "dashboards": [],
      "language": "python",
      "notebookName": "simple_test",
      "notebookOrigID": 32466718,
      "widgets": {}
    },
    "instance_type": "ml.t3.medium",
    "kernelspec": {
      "display_name": "Python 3 (Data Science)",
      "language": "python",
      "name": "python3__SAGEMAKER_INTERNAL__arn:aws:sagemaker:us-west-2:236514542706:image/datascience-1.0"
    },
    "language_info": {
      "codemirror_mode": {
        "name": "ipython",
        "version": 3
      },
      "file_extension": ".py",
      "mimetype": "text/x-python",
      "name": "python",
      "nbconvert_exporter": "python",
      "pygments_lexer": "ipython3",
      "version": "3.7.6"
    },
    "colab": {
      "name": "simple_test.ipynb",
      "provenance": []
    }
  },
  "cells": [
    {
      "cell_type": "code",
      "metadata": {
        "application/vnd.databricks.v1+cell": {
          "inputWidgets": {},
          "nuid": "177beb74-1049-44ec-8b03-d037b81e7e04",
          "showTitle": false,
          "title": ""
        },
        "id": "EF1qU_Bpg48Q",
        "colab": {
          "base_uri": "https://localhost:8080/"
        },
        "outputId": "191fffa3-4f4b-4106-fac3-4efc817af816"
      },
      "source": [
        "print(5-5)"
      ],
      "execution_count": 5,
      "outputs": [
        {
          "output_type": "stream",
          "text": [
            "0\n"
          ],
          "name": "stdout"
        }
      ]
    },
    {
      "cell_type": "code",
      "metadata": {
        "application/vnd.databricks.v1+cell": {
          "inputWidgets": {},
          "nuid": "e8fb473f-2229-4eba-9df9-f357d679cd49",
          "showTitle": false,
          "title": ""
        },
        "id": "lL3UnatIg48g",
        "colab": {
          "base_uri": "https://localhost:8080/",
          "height": 130
        },
        "outputId": "4a02349c-4e64-4cba-82ab-4f25b4e8c76f"
      },
      "source": [
        "%sql\n",
        "Select\n",
        "  trip_distance,\n",
        "  Borough\n",
        "from\n",
        "  airports"
      ],
      "execution_count": 6,
      "outputs": [
        {
          "output_type": "error",
          "ename": "IndentationError",
          "evalue": "ignored",
          "traceback": [
            "\u001b[0;36m  File \u001b[0;32m\"<ipython-input-6-b505f7c8b0a1>\"\u001b[0;36m, line \u001b[0;32m3\u001b[0m\n\u001b[0;31m    trip_distance,\u001b[0m\n\u001b[0m    ^\u001b[0m\n\u001b[0;31mIndentationError\u001b[0m\u001b[0;31m:\u001b[0m unexpected indent\n"
          ]
        }
      ]
    },
    {
      "cell_type": "code",
      "metadata": {
        "application/vnd.databricks.v1+cell": {
          "inputWidgets": {},
          "nuid": "485d3dc5-8da7-4a5a-92d2-ca6c7fe3b5ea",
          "showTitle": false,
          "title": ""
        },
        "id": "Hqrp2TRlg48h",
        "colab": {
          "base_uri": "https://localhost:8080/"
        },
        "outputId": "648d3c28-9f39-4cc5-99ac-8bb8a62f1e5a"
      },
      "source": [
        "print (\"this is a new cell from Colab\")"
      ],
      "execution_count": 7,
      "outputs": [
        {
          "output_type": "stream",
          "text": [
            "this is a new cell from Colab\n"
          ],
          "name": "stdout"
        }
      ]
    },
    {
      "cell_type": "code",
      "metadata": {
        "id": "l5JSkaVZptvt",
        "outputId": "b5b8f67a-f12f-403e-f7d0-9a0cdd4e727c",
        "colab": {
          "base_uri": "https://localhost:8080/"
        }
      },
      "source": [
        "print (\"this is yet another new cell\")"
      ],
      "execution_count": 8,
      "outputs": [
        {
          "output_type": "stream",
          "text": [
            "this is yet another new cell\n"
          ],
          "name": "stdout"
        }
      ]
    },
    {
      "cell_type": "code",
      "metadata": {
        "id": "2gAs2K2jpzC_"
      },
      "source": [
        ""
      ],
      "execution_count": null,
      "outputs": []
    }
  ]
}